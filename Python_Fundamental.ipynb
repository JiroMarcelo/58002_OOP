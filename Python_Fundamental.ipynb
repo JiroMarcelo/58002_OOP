{
  "nbformat": 4,
  "nbformat_minor": 0,
  "metadata": {
    "colab": {
      "provenance": [],
      "authorship_tag": "ABX9TyMCEm2eI9zCA7W96BSpkL57",
      "include_colab_link": true
    },
    "kernelspec": {
      "name": "python3",
      "display_name": "Python 3"
    },
    "language_info": {
      "name": "python"
    }
  },
  "cells": [
    {
      "cell_type": "markdown",
      "metadata": {
        "id": "view-in-github",
        "colab_type": "text"
      },
      "source": [
        "<a href=\"https://colab.research.google.com/github/JiroMarcelo/58002_OOP/blob/main/Python_Fundamental.ipynb\" target=\"_parent\"><img src=\"https://colab.research.google.com/assets/colab-badge.svg\" alt=\"Open In Colab\"/></a>"
      ]
    },
    {
      "cell_type": "markdown",
      "source": [
        "Phyton Identation\n"
      ],
      "metadata": {
        "id": "gzKb6zNWybgf"
      }
    },
    {
      "cell_type": "code",
      "source": [
        "if 5>2:\n",
        "    print(\"five is greater than two\")"
      ],
      "metadata": {
        "colab": {
          "base_uri": "https://localhost:8080/"
        },
        "id": "po-ZaJ7gypnn",
        "outputId": "9e9e6db1-3edd-476b-cd38-15cb188fbf2c"
      },
      "execution_count": 2,
      "outputs": [
        {
          "output_type": "stream",
          "name": "stdout",
          "text": [
            "five is greater than two\n"
          ]
        }
      ]
    },
    {
      "cell_type": "markdown",
      "source": [
        "Python Comment\n"
      ],
      "metadata": {
        "id": "qTKDtlgWzBvG"
      }
    },
    {
      "cell_type": "code",
      "source": [
        "#This is comment\n",
        "print(\"Hello World\")"
      ],
      "metadata": {
        "colab": {
          "base_uri": "https://localhost:8080/"
        },
        "id": "6IDfYhJtzEsf",
        "outputId": "8e858055-8c2e-4f44-b86d-136e24efe40d"
      },
      "execution_count": 3,
      "outputs": [
        {
          "output_type": "stream",
          "name": "stdout",
          "text": [
            "Hello World\n"
          ]
        }
      ]
    },
    {
      "cell_type": "markdown",
      "source": [
        "Naming Variable"
      ],
      "metadata": {
        "id": "B6yOKX_ZzPM-"
      }
    },
    {
      "cell_type": "code",
      "source": [
        "#Single variable with a single value\n",
        "x = 1\n",
        "y = 2\n",
        "print(x)\n",
        "print(y)\n",
        "\n",
        "#Multiply variable with a single value\n",
        "\n",
        "a = b = c = \"Maria\"\n",
        "print (a)\n",
        "print (b)\n",
        "print (c)"
      ],
      "metadata": {
        "colab": {
          "base_uri": "https://localhost:8080/"
        },
        "id": "FLDxRfhLzQr_",
        "outputId": "a3f9787d-353c-4ad2-a155-4ceba49184df"
      },
      "execution_count": 4,
      "outputs": [
        {
          "output_type": "stream",
          "name": "stdout",
          "text": [
            "1\n",
            "2\n",
            "Maria\n",
            "Maria\n",
            "Maria\n"
          ]
        }
      ]
    },
    {
      "cell_type": "code",
      "source": [
        "#Multiple variables with multiple values\n",
        "e, f, g=1,2,3\n",
        "print (e)\n",
        "print (f)\n",
        "print (g)\n"
      ],
      "metadata": {
        "colab": {
          "base_uri": "https://localhost:8080/"
        },
        "id": "KjolMDHV0WQa",
        "outputId": "37c7ad63-0755-4fde-ab14-440623de8b5e"
      },
      "execution_count": 8,
      "outputs": [
        {
          "output_type": "stream",
          "name": "stdout",
          "text": [
            "1\n",
            "2\n",
            "3\n"
          ]
        }
      ]
    },
    {
      "cell_type": "markdown",
      "source": [
        "Single or Double"
      ],
      "metadata": {
        "id": "9MHwNp_Y02cK"
      }
    },
    {
      "cell_type": "code",
      "source": [
        "v = \"sally\"\n",
        "u = \"sally\"\n",
        "print (u)\n",
        "print (v)"
      ],
      "metadata": {
        "colab": {
          "base_uri": "https://localhost:8080/"
        },
        "id": "rAq5s_cUy9Pe",
        "outputId": "a82476ca-4fd3-453f-f2d8-a975f1bf974d"
      },
      "execution_count": 9,
      "outputs": [
        {
          "output_type": "stream",
          "name": "stdout",
          "text": [
            "sally\n",
            "sally\n"
          ]
        }
      ]
    },
    {
      "cell_type": "markdown",
      "source": [
        "Casting"
      ],
      "metadata": {
        "id": "dsnTECdU1IGK"
      }
    },
    {
      "cell_type": "code",
      "source": [
        "p = float(5)\n",
        "p"
      ],
      "metadata": {
        "colab": {
          "base_uri": "https://localhost:8080/"
        },
        "id": "cYGpt5ZL1JaS",
        "outputId": "47423939-8ab1-48e2-e579-6df48edd0e23"
      },
      "execution_count": 11,
      "outputs": [
        {
          "output_type": "execute_result",
          "data": {
            "text/plain": [
              "5.0"
            ]
          },
          "metadata": {},
          "execution_count": 11
        }
      ]
    },
    {
      "cell_type": "markdown",
      "source": [
        "Type() Function"
      ],
      "metadata": {
        "id": "oAMuFXPr1ht6"
      }
    },
    {
      "cell_type": "code",
      "source": [
        "f = \"ana\"\n",
        "g = 4.56\n",
        "\n",
        "print (type(f))\n",
        "print (type(g))\n"
      ],
      "metadata": {
        "colab": {
          "base_uri": "https://localhost:8080/"
        },
        "id": "iJsD0_fU1kJi",
        "outputId": "8e124b67-7b52-47d6-83b5-0d19c7d356be"
      },
      "execution_count": 16,
      "outputs": [
        {
          "output_type": "stream",
          "name": "stdout",
          "text": [
            "<class 'str'>\n",
            "<class 'float'>\n"
          ]
        }
      ]
    },
    {
      "cell_type": "markdown",
      "source": [
        "Contencation using+symbol"
      ],
      "metadata": {
        "id": "dIPVl0i_2-NJ"
      }
    },
    {
      "cell_type": "code",
      "source": [
        "k = \"enjoying\"\n",
        "j = \"python programming is \"\n",
        "print(\"Python programming is\" +\" \" + k)\n",
        "print(j + k)"
      ],
      "metadata": {
        "colab": {
          "base_uri": "https://localhost:8080/"
        },
        "id": "otxhB_vp3JSH",
        "outputId": "fead8762-fc9b-49af-9c41-e2d30eba873d"
      },
      "execution_count": 21,
      "outputs": [
        {
          "output_type": "stream",
          "name": "stdout",
          "text": [
            "Python programming is enjoying\n",
            "python programming is enjoying\n"
          ]
        }
      ]
    }
  ]
}