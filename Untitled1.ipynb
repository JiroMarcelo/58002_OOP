{
  "nbformat": 4,
  "nbformat_minor": 0,
  "metadata": {
    "colab": {
      "provenance": [],
      "authorship_tag": "ABX9TyMYHDlAbY1bphNwFOtMNNr+",
      "include_colab_link": true
    },
    "kernelspec": {
      "name": "python3",
      "display_name": "Python 3"
    },
    "language_info": {
      "name": "python"
    }
  },
  "cells": [
    {
      "cell_type": "markdown",
      "metadata": {
        "id": "view-in-github",
        "colab_type": "text"
      },
      "source": [
        "<a href=\"https://colab.research.google.com/github/JiroMarcelo/58002_OOP/blob/main/Untitled1.ipynb\" target=\"_parent\"><img src=\"https://colab.research.google.com/assets/colab-badge.svg\" alt=\"Open In Colab\"/></a>"
      ]
    },
    {
      "cell_type": "code",
      "source": [
        "class shape:\n",
        "  def __init__(self, length, width):\n",
        "    self. length = length\n",
        "    self. width = width\n",
        "\n",
        "  def area_rec(self):\n",
        "      return self.length * self.width\n",
        "     # def area_sqr(self,slide):\n",
        "       # return self.side * self.side\n",
        "\n",
        "rectangle = shape(10,5)\n",
        "rectangle.area_rec()"
      ],
      "metadata": {
        "colab": {
          "base_uri": "https://localhost:8080/"
        },
        "id": "GpEnP5Lb1EWn",
        "outputId": "8977c5c1-5825-44ff-de2f-4f581ff94832"
      },
      "execution_count": 7,
      "outputs": [
        {
          "output_type": "execute_result",
          "data": {
            "text/plain": [
              "50"
            ]
          },
          "metadata": {},
          "execution_count": 7
        }
      ]
    },
    {
      "cell_type": "code",
      "source": [
        "class person:\n",
        "  def __init__(self, firstname, lastname, Mi):\n",
        "    self.firstname = firstname\n",
        "    self.lastname = lastname\n",
        "    self.Mi = Mi\n",
        "\n",
        "  def name(self):\n",
        "    return self.firstname + self.lastname + self.Mi\n",
        "name = person(\"Jiro Azriel\", \" C.\", \" Marcelo\")\n",
        "name.name()"
      ],
      "metadata": {
        "colab": {
          "base_uri": "https://localhost:8080/",
          "height": 35
        },
        "id": "m2KdSkbr9W3R",
        "outputId": "e4c3dbb4-a6af-4676-af63-ef3b8bcfc684"
      },
      "execution_count": 30,
      "outputs": [
        {
          "output_type": "execute_result",
          "data": {
            "text/plain": [
              "'Jiro Azriel C. Marcelo'"
            ],
            "application/vnd.google.colaboratory.intrinsic+json": {
              "type": "string"
            }
          },
          "metadata": {},
          "execution_count": 30
        }
      ]
    }
  ]
}