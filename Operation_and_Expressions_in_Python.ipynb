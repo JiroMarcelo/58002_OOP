{
  "nbformat": 4,
  "nbformat_minor": 0,
  "metadata": {
    "colab": {
      "provenance": [],
      "authorship_tag": "ABX9TyPBQq2RHvUcZsa7NoszmtsX",
      "include_colab_link": true
    },
    "kernelspec": {
      "name": "python3",
      "display_name": "Python 3"
    },
    "language_info": {
      "name": "python"
    }
  },
  "cells": [
    {
      "cell_type": "markdown",
      "metadata": {
        "id": "view-in-github",
        "colab_type": "text"
      },
      "source": [
        "<a href=\"https://colab.research.google.com/github/JiroMarcelo/58002_OOP/blob/main/Operation_and_Expressions_in_Python.ipynb\" target=\"_parent\"><img src=\"https://colab.research.google.com/assets/colab-badge.svg\" alt=\"Open In Colab\"/></a>"
      ]
    },
    {
      "cell_type": "markdown",
      "source": [
        "**Boolen Operation**\n",
        "represent one or two values: true or false compares variables (can be two or more) <,>,= bool function allow to evaluate and give you value in return: true or false\n",
        "1. Comparison/Relation"
      ],
      "metadata": {
        "id": "c1vuzPAu0qiQ"
      }
    },
    {
      "cell_type": "code",
      "source": [
        "\n",
        "  print(10>9)\n",
        "  print(10==9)\n",
        "  print(10<0)\n",
        "\n"
      ],
      "metadata": {
        "colab": {
          "base_uri": "https://localhost:8080/"
        },
        "id": "Ro3m2QLQ1L_Y",
        "outputId": "15655897-0f71-4ff2-b68a-2338c120e729"
      },
      "execution_count": null,
      "outputs": [
        {
          "output_type": "stream",
          "name": "stdout",
          "text": [
            "True\n",
            "False\n",
            "False\n"
          ]
        }
      ]
    },
    {
      "cell_type": "code",
      "source": [
        "a = 10\n",
        "b = 0\n",
        "print (a>b)\n",
        "print (a<b)\n",
        "print (a==b)\n",
        "print (b==b)"
      ],
      "metadata": {
        "colab": {
          "base_uri": "https://localhost:8080/"
        },
        "id": "N09bbcpt2Bs4",
        "outputId": "a08455b4-71f2-4ff9-d1a7-393ba7b4da28"
      },
      "execution_count": null,
      "outputs": [
        {
          "output_type": "stream",
          "name": "stdout",
          "text": [
            "True\n",
            "False\n",
            "False\n",
            "True\n"
          ]
        }
      ]
    },
    {
      "cell_type": "code",
      "source": [
        "print(bool(1))\n",
        "print(bool(\"Ana\"))\n",
        "print(bool(0))\n",
        "print(bool(None))\n",
        "print(bool([]))\n"
      ],
      "metadata": {
        "colab": {
          "base_uri": "https://localhost:8080/"
        },
        "id": "Bn4AjNOZ2fKQ",
        "outputId": "74eed840-6c71-48fb-fda5-551866d6f53b"
      },
      "execution_count": null,
      "outputs": [
        {
          "output_type": "stream",
          "name": "stdout",
          "text": [
            "True\n",
            "True\n",
            "False\n",
            "False\n",
            "False\n"
          ]
        }
      ]
    },
    {
      "cell_type": "markdown",
      "source": [
        "FUNCTION CAN RETURN A BOOLEAN\n",
        "\n",
        "defmy Function () return true\n",
        "\n",
        "print(myFunction())"
      ],
      "metadata": {
        "id": "wa2H7yYy2_10"
      }
    },
    {
      "cell_type": "code",
      "source": [
        "def myFunction():\n",
        "    return False\n",
        "\n",
        "print(myFunction())"
      ],
      "metadata": {
        "colab": {
          "base_uri": "https://localhost:8080/"
        },
        "id": "oAbA9hHc3Mo8",
        "outputId": "c9dc9b00-6ddc-40ed-8996-9eb232534bcb"
      },
      "execution_count": null,
      "outputs": [
        {
          "output_type": "stream",
          "name": "stdout",
          "text": [
            "False\n"
          ]
        }
      ]
    },
    {
      "cell_type": "markdown",
      "source": [
        "**ALLIGNMENT**"
      ],
      "metadata": {
        "id": "G5DbB-ka3fNz"
      }
    },
    {
      "cell_type": "code",
      "source": [
        "  def myFunction():\n",
        "    return False \n",
        "if myFunction():\n",
        "      print(\"Yes\")\n",
        "else:\n",
        "      print(\"No!\")"
      ],
      "metadata": {
        "colab": {
          "base_uri": "https://localhost:8080/"
        },
        "id": "gmBtzE6W3gxk",
        "outputId": "f57b724c-f7fc-4890-80d3-1552172011df"
      },
      "execution_count": null,
      "outputs": [
        {
          "output_type": "stream",
          "name": "stdout",
          "text": [
            "No!\n"
          ]
        }
      ]
    },
    {
      "cell_type": "code",
      "source": [
        "print (6>7)\n",
        "\n",
        "a=6\n",
        "b=7\n",
        "print(a==b)\n",
        "print(a!=a)\n"
      ],
      "metadata": {
        "colab": {
          "base_uri": "https://localhost:8080/"
        },
        "id": "AptqMkFD4PJM",
        "outputId": "e8afe7f8-803a-465d-d014-38a586f9f03e"
      },
      "execution_count": null,
      "outputs": [
        {
          "output_type": "stream",
          "name": "stdout",
          "text": [
            "False\n",
            "False\n",
            "False\n"
          ]
        }
      ]
    },
    {
      "cell_type": "markdown",
      "source": [
        "PYTHON OPERATORS\n",
        "\n",
        "operators are used to perform on variable and values\n",
        "\n",
        "%modulo division -- remainder // floor division\n",
        "**power^(exponent0\n"
      ],
      "metadata": {
        "id": "sSc2NIEN4bAU"
      }
    },
    {
      "cell_type": "code",
      "source": [
        "print(10%5)\n",
        "print(10//3)\n",
        "print(10*2)"
      ],
      "metadata": {
        "colab": {
          "base_uri": "https://localhost:8080/"
        },
        "id": "_-a3AP1F4vus",
        "outputId": "87818ab2-8726-4612-f3bc-5dc6935a51e1"
      },
      "execution_count": null,
      "outputs": [
        {
          "output_type": "stream",
          "name": "stdout",
          "text": [
            "0\n",
            "3\n",
            "20\n"
          ]
        }
      ]
    },
    {
      "cell_type": "code",
      "source": [
        "print(10+5)\n",
        "print(10-5)\n",
        "print(10*5)\n",
        "print(10/5)\n",
        "print(10%3)"
      ],
      "metadata": {
        "colab": {
          "base_uri": "https://localhost:8080/"
        },
        "id": "bBxaUeoh5B40",
        "outputId": "f5a9b0da-cc05-4a94-8ff1-df0d5b4d7649"
      },
      "execution_count": null,
      "outputs": [
        {
          "output_type": "stream",
          "name": "stdout",
          "text": [
            "15\n",
            "5\n",
            "50\n",
            "2.0\n",
            "1\n"
          ]
        }
      ]
    },
    {
      "cell_type": "markdown",
      "source": [
        "PYTHON BITWISE OPERATORS\n",
        "\n",
        "works on bits and performs bits-by-bits operation.\n",
        "\n",
        "Assume if a=6 and b=13;now in binary format they will be as follows\n",
        "\n",
        "<<= shift to the right\n",
        "(>>)= not applicable in regis"
      ],
      "metadata": {
        "id": "atxHkg_E9vhS"
      }
    },
    {
      "cell_type": "code",
      "source": [
        "a = 60 \n",
        "b = 13\n",
        "a<<1\n",
        "a>>1"
      ],
      "metadata": {
        "colab": {
          "base_uri": "https://localhost:8080/"
        },
        "id": "5JBSLrWj-MV3",
        "outputId": "78c10f25-f007-47e2-e69d-3011fcb4a38a"
      },
      "execution_count": null,
      "outputs": [
        {
          "output_type": "execute_result",
          "data": {
            "text/plain": [
              "30"
            ]
          },
          "metadata": {},
          "execution_count": 16
        }
      ]
    },
    {
      "cell_type": "markdown",
      "source": [
        "Python Assignment Operators\n",
        "\n",
        "X+=3 same as x=x+3"
      ],
      "metadata": {
        "id": "smt9PqtW-SpJ"
      }
    },
    {
      "cell_type": "code",
      "source": [
        "x = 1\n",
        "x+=3 #same as x = x+3\n",
        "print(x)\n",
        "\n",
        "x = 1\n",
        "x-=3\n",
        "print(x)\n"
      ],
      "metadata": {
        "colab": {
          "base_uri": "https://localhost:8080/"
        },
        "id": "LFClZ5-L-du4",
        "outputId": "a09a9874-d3ed-47ad-f735-b63c8c80a288"
      },
      "execution_count": null,
      "outputs": [
        {
          "output_type": "stream",
          "name": "stdout",
          "text": [
            "4\n",
            "-2\n"
          ]
        }
      ]
    },
    {
      "cell_type": "markdown",
      "source": [
        "LOGICAL OPERATIONS"
      ],
      "metadata": {
        "id": "L_yxG6wmBj6m"
      }
    },
    {
      "cell_type": "code",
      "source": [
        "x = True\n",
        "y = False"
      ],
      "metadata": {
        "id": "QcG03BNGB7k9"
      },
      "execution_count": null,
      "outputs": []
    },
    {
      "cell_type": "code",
      "source": [
        "print(x and y)\n",
        "print(x or y)\n",
        "print(not(x or y))"
      ],
      "metadata": {
        "colab": {
          "base_uri": "https://localhost:8080/"
        },
        "id": "Gr2rFzCGCELN",
        "outputId": "d808ed4c-007f-4bb9-a5d1-c26e6462cc5e"
      },
      "execution_count": null,
      "outputs": [
        {
          "output_type": "stream",
          "name": "stdout",
          "text": [
            "False\n",
            "True\n",
            "False\n"
          ]
        }
      ]
    },
    {
      "cell_type": "markdown",
      "source": [
        "**IDENTITY OPERATORS**"
      ],
      "metadata": {
        "id": "sBQP14VGCMRO"
      }
    },
    {
      "cell_type": "code",
      "source": [
        "print(x is y)\n",
        "print(x is not y)"
      ],
      "metadata": {
        "colab": {
          "base_uri": "https://localhost:8080/"
        },
        "id": "ys32-AmpCPHe",
        "outputId": "bfdc0d6b-536c-4331-87fe-1589be14706a"
      },
      "execution_count": null,
      "outputs": [
        {
          "output_type": "stream",
          "name": "stdout",
          "text": [
            "False\n",
            "True\n"
          ]
        }
      ]
    },
    {
      "cell_type": "markdown",
      "source": [
        "Application 1 Create an arithmetic calculator (MDAS)"
      ],
      "metadata": {
        "id": "8LASgiFYDTkQ"
      }
    },
    {
      "cell_type": "code",
      "source": [],
      "metadata": {
        "id": "OHTzz0naGgSL"
      },
      "execution_count": null,
      "outputs": []
    }
  ]
}