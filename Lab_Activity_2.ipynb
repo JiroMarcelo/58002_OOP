{
  "nbformat": 4,
  "nbformat_minor": 0,
  "metadata": {
    "colab": {
      "provenance": [],
      "authorship_tag": "ABX9TyNNGtERlFDitUAa705+gn+b",
      "include_colab_link": true
    },
    "kernelspec": {
      "name": "python3",
      "display_name": "Python 3"
    },
    "language_info": {
      "name": "python"
    }
  },
  "cells": [
    {
      "cell_type": "markdown",
      "metadata": {
        "id": "view-in-github",
        "colab_type": "text"
      },
      "source": [
        "<a href=\"https://colab.research.google.com/github/JiroMarcelo/58002_OOP/blob/main/Lab_Activity_2.ipynb\" target=\"_parent\"><img src=\"https://colab.research.google.com/assets/colab-badge.svg\" alt=\"Open In Colab\"/></a>"
      ]
    },
    {
      "cell_type": "code",
      "execution_count": 1,
      "metadata": {
        "colab": {
          "base_uri": "https://localhost:8080/"
        },
        "id": "kwfM0HCBQAUH",
        "outputId": "be3d636b-a3fa-4711-f4eb-2ee9c60f2982"
      },
      "outputs": [
        {
          "output_type": "stream",
          "name": "stdout",
          "text": [
            "Enter the radius of the circle5\n",
            "Perimeter 31.4159\n",
            "Area 78.53975\n"
          ]
        }
      ],
      "source": [
        "class Circle:\n",
        "  def __init__(self, radius):\n",
        "      self.radius = radius\n",
        "      self.pi = 3.14159\n",
        "\n",
        "  def Perimeter(self):\n",
        "      return 2 * self.pi * self.radius\n",
        "\n",
        "  def Area(self):\n",
        "      return self.pi * self.radius ** 2\n",
        "\n",
        "  def Display(self):\n",
        "      print(\"Perimeter\", self.Perimeter())\n",
        "      print(\"Area\", self.Area())\n",
        "\n",
        "radius = float(input(\"Enter the radius of the circle\"))\n",
        "c = Circle(radius)\n",
        "c.Display()"
      ]
    }
  ]
}