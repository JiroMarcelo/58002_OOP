{
  "nbformat": 4,
  "nbformat_minor": 0,
  "metadata": {
    "colab": {
      "provenance": [],
      "authorship_tag": "ABX9TyMsJNoNfpnQ0OWedlP5QOuD",
      "include_colab_link": true
    },
    "kernelspec": {
      "name": "python3",
      "display_name": "Python 3"
    },
    "language_info": {
      "name": "python"
    }
  },
  "cells": [
    {
      "cell_type": "markdown",
      "metadata": {
        "id": "view-in-github",
        "colab_type": "text"
      },
      "source": [
        "<a href=\"https://colab.research.google.com/github/JiroMarcelo/58002_OOP/blob/main/Control_Structure.ipynb\" target=\"_parent\"><img src=\"https://colab.research.google.com/assets/colab-badge.svg\" alt=\"Open In Colab\"/></a>"
      ]
    },
    {
      "cell_type": "code",
      "execution_count": null,
      "metadata": {
        "id": "-tOMFECNlLg8"
      },
      "outputs": [],
      "source": [
        "#if Statement\n",
        "a = 50\n",
        "b = 50\n",
        "if a>b:\n",
        "  print(\"a is greater than b\")"
      ]
    },
    {
      "cell_type": "code",
      "source": [
        "#Elif Statement\n",
        "if a>b:\n",
        "  print(\"a is greater than b\")\n",
        "elif a<b:\n",
        "    print(\"a is less than b\")\n",
        "else:\n",
        "    print(\"a is equal to b\")"
      ],
      "metadata": {
        "colab": {
          "base_uri": "https://localhost:8080/"
        },
        "id": "baE21J7slf1l",
        "outputId": "91f4a994-942e-4cad-a088-b0dafdc84d94"
      },
      "execution_count": null,
      "outputs": [
        {
          "output_type": "stream",
          "name": "stdout",
          "text": [
            "a is less than b\n"
          ]
        }
      ]
    },
    {
      "cell_type": "markdown",
      "source": [
        "Short Hand if.."
      ],
      "metadata": {
        "id": "72debAfrm2GN"
      }
    },
    {
      "cell_type": "code",
      "source": [
        "if a==b: print(\"a is equal to b\")"
      ],
      "metadata": {
        "colab": {
          "base_uri": "https://localhost:8080/"
        },
        "id": "7uGyf0RVm6fN",
        "outputId": "70805df4-ee82-4f49-8707-f7923e74e393"
      },
      "execution_count": null,
      "outputs": [
        {
          "output_type": "stream",
          "name": "stdout",
          "text": [
            "a is equal to b\n"
          ]
        }
      ]
    },
    {
      "cell_type": "markdown",
      "source": [
        "Short hand if... else"
      ],
      "metadata": {
        "id": "4rGkj6jhnPd1"
      }
    },
    {
      "cell_type": "code",
      "source": [
        "print(\"a is greater than b\")if a>b else print(\"a is less than b\")"
      ],
      "metadata": {
        "colab": {
          "base_uri": "https://localhost:8080/"
        },
        "id": "v71mGjVhnSgE",
        "outputId": "0c273ce7-5d9f-42d7-fe27-34da15634869"
      },
      "execution_count": null,
      "outputs": [
        {
          "output_type": "stream",
          "name": "stdout",
          "text": [
            "a is less than b\n"
          ]
        }
      ]
    },
    {
      "cell_type": "markdown",
      "source": [
        "And Condition"
      ],
      "metadata": {
        "id": "pJ20iFU3ny2t"
      }
    },
    {
      "cell_type": "code",
      "source": [
        "s = 75\n",
        "t =70\n",
        "\n",
        "if s>t and t<s:\n",
        "  print(\"s > t and t < s\")"
      ],
      "metadata": {
        "colab": {
          "base_uri": "https://localhost:8080/"
        },
        "id": "V4gBQqe_n_nW",
        "outputId": "61eeb9c5-5ba7-41a9-d2b7-c7fc0cd179fc"
      },
      "execution_count": null,
      "outputs": [
        {
          "output_type": "stream",
          "name": "stdout",
          "text": [
            "s > t and t < s\n"
          ]
        }
      ]
    },
    {
      "cell_type": "markdown",
      "source": [
        "Or Condition"
      ],
      "metadata": {
        "id": "45yyfswyoLnN"
      }
    },
    {
      "cell_type": "code",
      "source": [
        "print(\"s > t and t < s\")"
      ],
      "metadata": {
        "colab": {
          "base_uri": "https://localhost:8080/"
        },
        "id": "YNTYgYaLoNBm",
        "outputId": "485d586c-3af5-41d5-ea4c-0cec2e44d77e"
      },
      "execution_count": null,
      "outputs": [
        {
          "output_type": "stream",
          "name": "stdout",
          "text": [
            "s > t and t < s\n"
          ]
        }
      ]
    },
    {
      "cell_type": "markdown",
      "source": [
        "Nested If"
      ],
      "metadata": {
        "id": "mva3NKvCov3W"
      }
    },
    {
      "cell_type": "code",
      "source": [
        "x = 41\n",
        "if x>10:\n",
        "  print(\"Above 10\")\n",
        "  if x>20:\n",
        "    print(\"Above 20\")\n",
        "  else:\n",
        "    print(\"Below 20\")\n",
        "else:\n",
        "  print(\"Below 10\")"
      ],
      "metadata": {
        "colab": {
          "base_uri": "https://localhost:8080/"
        },
        "id": "IooPOjuooxVe",
        "outputId": "c6369618-83f0-4fbb-9e37-4de2bedb9c64"
      },
      "execution_count": null,
      "outputs": [
        {
          "output_type": "stream",
          "name": "stdout",
          "text": [
            "Above 10\n",
            "Above 20\n"
          ]
        }
      ]
    },
    {
      "cell_type": "code",
      "source": [
        "x = float(input())\n",
        "if x>10:\n",
        "  print(\"above 10\")\n",
        "  if x>20:\n",
        "    print(\"above 20\")\n",
        "    if x>30:\n",
        "      print(\"above 30\")\n",
        "      if x>40:\n",
        "        print(\"above 40\")\n",
        "        if x>50:\n",
        "         print(\"above 50\")\n",
        "        else:\n",
        "         print(\"below 50\")\n",
        "      else:\n",
        "        print(\"below 40\")\n",
        "    else:\n",
        "      print(\"below 30\")\n",
        "  else:\n",
        "    print(\"below 20\")\n",
        "else:\n",
        "  print(\"below 10\")"
      ],
      "metadata": {
        "colab": {
          "base_uri": "https://localhost:8080/"
        },
        "id": "jM2YRGiOrSh6",
        "outputId": "15844503-6cf6-48c1-9ec9-57449214c6c7"
      },
      "execution_count": null,
      "outputs": [
        {
          "output_type": "stream",
          "name": "stdout",
          "text": [
            "45.9\n",
            "above 10\n",
            "above 20\n",
            "above 30\n",
            "above 40\n",
            "below 50\n"
          ]
        }
      ]
    },
    {
      "cell_type": "markdown",
      "source": [
        "Example 1"
      ],
      "metadata": {
        "id": "jS2CgiByvIBG"
      }
    },
    {
      "cell_type": "code",
      "source": [
        "grade = int(input(\"Enter your grade: \"))\n",
        "if grade < 0:\n",
        "  print(\"Invalid grade. Grades must be non-negative.\")\n",
        "  exit()\n",
        "if grade >= 70:\n",
        "  print(\"Passed\")\n",
        "elif grade <= 69 and grade >= 65:\n",
        "  print(\"Remedial\")\n",
        "elif grade <=65 and grade >=0:\n",
        "  print(\"Failed\")"
      ],
      "metadata": {
        "colab": {
          "base_uri": "https://localhost:8080/"
        },
        "id": "te8a7q5GvJw1",
        "outputId": "16d8e17e-cb01-411f-a3d8-062579093c50"
      },
      "execution_count": null,
      "outputs": [
        {
          "output_type": "stream",
          "name": "stdout",
          "text": [
            "Enter your grade: 75\n",
            "Passed\n"
          ]
        }
      ]
    },
    {
      "cell_type": "markdown",
      "source": [
        "Example 2"
      ],
      "metadata": {
        "id": "qS0CV1nyvQ_3"
      }
    },
    {
      "cell_type": "code",
      "source": [
        "number = float(input(\"Enter a number: \"))\n",
        "\n",
        "if number == 0:\n",
        "  print(\"Zero\")\n",
        "\n",
        "elif number >=1:\n",
        "  print(\"Positive\")\n",
        "\n",
        "else:\n",
        "  print(\"Negative\")"
      ],
      "metadata": {
        "colab": {
          "base_uri": "https://localhost:8080/"
        },
        "id": "kBT_3iSjvUxF",
        "outputId": "32208c0a-3a66-42e9-e2c9-c89becfec4d8"
      },
      "execution_count": null,
      "outputs": [
        {
          "output_type": "stream",
          "name": "stdout",
          "text": [
            "Enter a number: 0\n",
            "Zero\n"
          ]
        }
      ]
    },
    {
      "cell_type": "markdown",
      "source": [
        "Example 3"
      ],
      "metadata": {
        "id": "sbTxNgbGvZNl"
      }
    },
    {
      "cell_type": "code",
      "source": [
        "age = int(input(\"Enter your age: \"))\n",
        "\n",
        "if age >= 18:\n",
        "    print(\"You are eligible to vote.\")\n",
        "else:\n",
        "    print(\"You are not eligible to vote.\")"
      ],
      "metadata": {
        "colab": {
          "base_uri": "https://localhost:8080/"
        },
        "id": "76LJ7s_zvaF9",
        "outputId": "3c5560bf-2c0f-4752-8248-88ee6fcbceca"
      },
      "execution_count": null,
      "outputs": [
        {
          "output_type": "stream",
          "name": "stdout",
          "text": [
            "Enter your age: 17\n",
            "You are not eligible to vote.\n"
          ]
        }
      ]
    }
  ]
}