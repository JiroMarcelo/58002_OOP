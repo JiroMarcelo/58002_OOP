{
  "nbformat": 4,
  "nbformat_minor": 0,
  "metadata": {
    "colab": {
      "provenance": [],
      "authorship_tag": "ABX9TyOjFibQIP6ZsA8UKN0BB34o",
      "include_colab_link": true
    },
    "kernelspec": {
      "name": "python3",
      "display_name": "Python 3"
    },
    "language_info": {
      "name": "python"
    }
  },
  "cells": [
    {
      "cell_type": "markdown",
      "metadata": {
        "id": "view-in-github",
        "colab_type": "text"
      },
      "source": [
        "<a href=\"https://colab.research.google.com/github/JiroMarcelo/58002_OOP/blob/main/Hands_on_No_1.ipynb\" target=\"_parent\"><img src=\"https://colab.research.google.com/assets/colab-badge.svg\" alt=\"Open In Colab\"/></a>"
      ]
    },
    {
      "cell_type": "markdown",
      "source": [
        "1. Creat a Python program that display the name of three students (Students 1, Student 2, and Student 3) and the term grades\n",
        "\n",
        "2. Create a class name Person and attributes-std1, std2,std3, pre,mid,fin\n",
        "\n",
        "3. Compute the average of each term grade using grade() method\n",
        "\n",
        "4. Information about student's grades must be hidden to others"
      ],
      "metadata": {
        "id": "CfOHEy_B-5PP"
      }
    },
    {
      "cell_type": "code",
      "source": [
        "class Person:\n",
        "  def __init__(self,pre,mid,fin):\n",
        "    self.__pre = pre\n",
        "    self.__mid = mid\n",
        "    self.__fin = fin\n",
        "  def Grade(self):\n",
        "    return (self.__pre + self.__mid + self.__fin) / 3\n",
        "\n",
        "class Student1(Person):\n",
        "  pass\n",
        "class Student2(Person):\n",
        "  pass\n",
        "class Student3(Person):\n",
        "  pass\n",
        "\n",
        "std1 = Student1(88, 85, 86)\n",
        "std2 = Student2(74, 77, 80)\n",
        "std3 = Student3(90, 91, 90)\n",
        "\n",
        "print(\"The Semesteral grades of Student 1 is: \",std1.Grade())\n",
        "print(\"The Semesteral grades of Student 2 is: \",std2.Grade())\n",
        "print(\"The Semesteral grades of Student 3 is: \",std3.Grade())"
      ],
      "metadata": {
        "colab": {
          "base_uri": "https://localhost:8080/"
        },
        "id": "TM3a5O-gRgiX",
        "outputId": "e0025708-dbcc-405b-d61f-24936c5a0654"
      },
      "execution_count": 52,
      "outputs": [
        {
          "output_type": "stream",
          "name": "stdout",
          "text": [
            "The Semesteral grades of Student 1 is:  86.33333333333333\n",
            "The Semesteral grades of Student 2 is:  77.0\n",
            "The Semesteral grades of Student 3 is:  90.33333333333333\n"
          ]
        }
      ]
    }
  ]
}